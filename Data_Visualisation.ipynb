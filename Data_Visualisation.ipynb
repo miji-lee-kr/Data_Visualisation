{
 "cells": [
  {
   "cell_type": "markdown",
   "id": "a2686edf",
   "metadata": {},
   "source": [
    "## Data Visualisation - Ford GoBike\n",
    "### by Miji\n",
    "### Preliminary Wrangling\n",
    "This dataset has been shared by bike sharing company, Ford GoBike. The data includes many interesting information on users and their bike trips. I'm going to start with wrangling data to make it suitable for investigation."
   ]
  },
  {
   "cell_type": "code",
   "execution_count": 1,
   "id": "cd190e20",
   "metadata": {},
   "outputs": [],
   "source": [
    "# import all packages and set plots to be embedded inline\n",
    "import numpy as np\n",
    "import pandas as pd\n",
    "import matplotlib.pyplot as plt\n",
    "import seaborn as sns\n",
    "\n",
    "%matplotlib inline"
   ]
  },
  {
   "cell_type": "code",
   "execution_count": 2,
   "id": "789450bc",
   "metadata": {},
   "outputs": [
    {
     "data": {
      "text/html": [
       "<div>\n",
       "<style scoped>\n",
       "    .dataframe tbody tr th:only-of-type {\n",
       "        vertical-align: middle;\n",
       "    }\n",
       "\n",
       "    .dataframe tbody tr th {\n",
       "        vertical-align: top;\n",
       "    }\n",
       "\n",
       "    .dataframe thead th {\n",
       "        text-align: right;\n",
       "    }\n",
       "</style>\n",
       "<table border=\"1\" class=\"dataframe\">\n",
       "  <thead>\n",
       "    <tr style=\"text-align: right;\">\n",
       "      <th></th>\n",
       "      <th>duration_sec</th>\n",
       "      <th>start_time</th>\n",
       "      <th>end_time</th>\n",
       "      <th>start_station_id</th>\n",
       "      <th>start_station_name</th>\n",
       "      <th>start_station_latitude</th>\n",
       "      <th>start_station_longitude</th>\n",
       "      <th>end_station_id</th>\n",
       "      <th>end_station_name</th>\n",
       "      <th>end_station_latitude</th>\n",
       "      <th>end_station_longitude</th>\n",
       "      <th>bike_id</th>\n",
       "      <th>user_type</th>\n",
       "      <th>member_birth_year</th>\n",
       "      <th>member_gender</th>\n",
       "      <th>bike_share_for_all_trip</th>\n",
       "    </tr>\n",
       "  </thead>\n",
       "  <tbody>\n",
       "    <tr>\n",
       "      <th>0</th>\n",
       "      <td>52185</td>\n",
       "      <td>2019-02-28 17:32:10.1450</td>\n",
       "      <td>2019-03-01 08:01:55.9750</td>\n",
       "      <td>21.0</td>\n",
       "      <td>Montgomery St BART Station (Market St at 2nd St)</td>\n",
       "      <td>37.789625</td>\n",
       "      <td>-122.400811</td>\n",
       "      <td>13.0</td>\n",
       "      <td>Commercial St at Montgomery St</td>\n",
       "      <td>37.794231</td>\n",
       "      <td>-122.402923</td>\n",
       "      <td>4902</td>\n",
       "      <td>Customer</td>\n",
       "      <td>1984.0</td>\n",
       "      <td>Male</td>\n",
       "      <td>No</td>\n",
       "    </tr>\n",
       "    <tr>\n",
       "      <th>1</th>\n",
       "      <td>42521</td>\n",
       "      <td>2019-02-28 18:53:21.7890</td>\n",
       "      <td>2019-03-01 06:42:03.0560</td>\n",
       "      <td>23.0</td>\n",
       "      <td>The Embarcadero at Steuart St</td>\n",
       "      <td>37.791464</td>\n",
       "      <td>-122.391034</td>\n",
       "      <td>81.0</td>\n",
       "      <td>Berry St at 4th St</td>\n",
       "      <td>37.775880</td>\n",
       "      <td>-122.393170</td>\n",
       "      <td>2535</td>\n",
       "      <td>Customer</td>\n",
       "      <td>NaN</td>\n",
       "      <td>NaN</td>\n",
       "      <td>No</td>\n",
       "    </tr>\n",
       "    <tr>\n",
       "      <th>2</th>\n",
       "      <td>61854</td>\n",
       "      <td>2019-02-28 12:13:13.2180</td>\n",
       "      <td>2019-03-01 05:24:08.1460</td>\n",
       "      <td>86.0</td>\n",
       "      <td>Market St at Dolores St</td>\n",
       "      <td>37.769305</td>\n",
       "      <td>-122.426826</td>\n",
       "      <td>3.0</td>\n",
       "      <td>Powell St BART Station (Market St at 4th St)</td>\n",
       "      <td>37.786375</td>\n",
       "      <td>-122.404904</td>\n",
       "      <td>5905</td>\n",
       "      <td>Customer</td>\n",
       "      <td>1972.0</td>\n",
       "      <td>Male</td>\n",
       "      <td>No</td>\n",
       "    </tr>\n",
       "    <tr>\n",
       "      <th>3</th>\n",
       "      <td>36490</td>\n",
       "      <td>2019-02-28 17:54:26.0100</td>\n",
       "      <td>2019-03-01 04:02:36.8420</td>\n",
       "      <td>375.0</td>\n",
       "      <td>Grove St at Masonic Ave</td>\n",
       "      <td>37.774836</td>\n",
       "      <td>-122.446546</td>\n",
       "      <td>70.0</td>\n",
       "      <td>Central Ave at Fell St</td>\n",
       "      <td>37.773311</td>\n",
       "      <td>-122.444293</td>\n",
       "      <td>6638</td>\n",
       "      <td>Subscriber</td>\n",
       "      <td>1989.0</td>\n",
       "      <td>Other</td>\n",
       "      <td>No</td>\n",
       "    </tr>\n",
       "    <tr>\n",
       "      <th>4</th>\n",
       "      <td>1585</td>\n",
       "      <td>2019-02-28 23:54:18.5490</td>\n",
       "      <td>2019-03-01 00:20:44.0740</td>\n",
       "      <td>7.0</td>\n",
       "      <td>Frank H Ogawa Plaza</td>\n",
       "      <td>37.804562</td>\n",
       "      <td>-122.271738</td>\n",
       "      <td>222.0</td>\n",
       "      <td>10th Ave at E 15th St</td>\n",
       "      <td>37.792714</td>\n",
       "      <td>-122.248780</td>\n",
       "      <td>4898</td>\n",
       "      <td>Subscriber</td>\n",
       "      <td>1974.0</td>\n",
       "      <td>Male</td>\n",
       "      <td>Yes</td>\n",
       "    </tr>\n",
       "  </tbody>\n",
       "</table>\n",
       "</div>"
      ],
      "text/plain": [
       "   duration_sec                start_time                  end_time  \\\n",
       "0         52185  2019-02-28 17:32:10.1450  2019-03-01 08:01:55.9750   \n",
       "1         42521  2019-02-28 18:53:21.7890  2019-03-01 06:42:03.0560   \n",
       "2         61854  2019-02-28 12:13:13.2180  2019-03-01 05:24:08.1460   \n",
       "3         36490  2019-02-28 17:54:26.0100  2019-03-01 04:02:36.8420   \n",
       "4          1585  2019-02-28 23:54:18.5490  2019-03-01 00:20:44.0740   \n",
       "\n",
       "   start_station_id                                start_station_name  \\\n",
       "0              21.0  Montgomery St BART Station (Market St at 2nd St)   \n",
       "1              23.0                     The Embarcadero at Steuart St   \n",
       "2              86.0                           Market St at Dolores St   \n",
       "3             375.0                           Grove St at Masonic Ave   \n",
       "4               7.0                               Frank H Ogawa Plaza   \n",
       "\n",
       "   start_station_latitude  start_station_longitude  end_station_id  \\\n",
       "0               37.789625              -122.400811            13.0   \n",
       "1               37.791464              -122.391034            81.0   \n",
       "2               37.769305              -122.426826             3.0   \n",
       "3               37.774836              -122.446546            70.0   \n",
       "4               37.804562              -122.271738           222.0   \n",
       "\n",
       "                               end_station_name  end_station_latitude  \\\n",
       "0                Commercial St at Montgomery St             37.794231   \n",
       "1                            Berry St at 4th St             37.775880   \n",
       "2  Powell St BART Station (Market St at 4th St)             37.786375   \n",
       "3                        Central Ave at Fell St             37.773311   \n",
       "4                         10th Ave at E 15th St             37.792714   \n",
       "\n",
       "   end_station_longitude  bike_id   user_type  member_birth_year  \\\n",
       "0            -122.402923     4902    Customer             1984.0   \n",
       "1            -122.393170     2535    Customer                NaN   \n",
       "2            -122.404904     5905    Customer             1972.0   \n",
       "3            -122.444293     6638  Subscriber             1989.0   \n",
       "4            -122.248780     4898  Subscriber             1974.0   \n",
       "\n",
       "  member_gender bike_share_for_all_trip  \n",
       "0          Male                      No  \n",
       "1           NaN                      No  \n",
       "2          Male                      No  \n",
       "3         Other                      No  \n",
       "4          Male                     Yes  "
      ]
     },
     "execution_count": 2,
     "metadata": {},
     "output_type": "execute_result"
    }
   ],
   "source": [
    "ford = pd.read_csv('fordgobike.csv')\n",
    "ford.head()"
   ]
  },
  {
   "cell_type": "code",
   "execution_count": 3,
   "id": "7029564b",
   "metadata": {},
   "outputs": [
    {
     "name": "stdout",
     "output_type": "stream",
     "text": [
      "<class 'pandas.core.frame.DataFrame'>\n",
      "RangeIndex: 183412 entries, 0 to 183411\n",
      "Data columns (total 16 columns):\n",
      " #   Column                   Non-Null Count   Dtype  \n",
      "---  ------                   --------------   -----  \n",
      " 0   duration_sec             183412 non-null  int64  \n",
      " 1   start_time               183412 non-null  object \n",
      " 2   end_time                 183412 non-null  object \n",
      " 3   start_station_id         183215 non-null  float64\n",
      " 4   start_station_name       183215 non-null  object \n",
      " 5   start_station_latitude   183412 non-null  float64\n",
      " 6   start_station_longitude  183412 non-null  float64\n",
      " 7   end_station_id           183215 non-null  float64\n",
      " 8   end_station_name         183215 non-null  object \n",
      " 9   end_station_latitude     183412 non-null  float64\n",
      " 10  end_station_longitude    183412 non-null  float64\n",
      " 11  bike_id                  183412 non-null  int64  \n",
      " 12  user_type                183412 non-null  object \n",
      " 13  member_birth_year        175147 non-null  float64\n",
      " 14  member_gender            175147 non-null  object \n",
      " 15  bike_share_for_all_trip  183412 non-null  object \n",
      "dtypes: float64(7), int64(2), object(7)\n",
      "memory usage: 22.4+ MB\n"
     ]
    }
   ],
   "source": [
    "ford.info()"
   ]
  },
  {
   "cell_type": "markdown",
   "id": "0c854056",
   "metadata": {},
   "source": [
    "### Chcking for any missing information"
   ]
  },
  {
   "cell_type": "code",
   "execution_count": 4,
   "id": "a5a72a8c",
   "metadata": {},
   "outputs": [
    {
     "data": {
      "text/plain": [
       "duration_sec                  0\n",
       "start_time                    0\n",
       "end_time                      0\n",
       "start_station_id            197\n",
       "start_station_name          197\n",
       "start_station_latitude        0\n",
       "start_station_longitude       0\n",
       "end_station_id              197\n",
       "end_station_name            197\n",
       "end_station_latitude          0\n",
       "end_station_longitude         0\n",
       "bike_id                       0\n",
       "user_type                     0\n",
       "member_birth_year          8265\n",
       "member_gender              8265\n",
       "bike_share_for_all_trip       0\n",
       "dtype: int64"
      ]
     },
     "execution_count": 4,
     "metadata": {},
     "output_type": "execute_result"
    }
   ],
   "source": [
    "ford.isnull().sum()\n",
    "\n",
    "# zero values in start_hour are normal as customer could rent the bike in midnight\n",
    "# Since the numbers of missing values are less than 5 % of the whole dataset at most, I will remove the rows "
   ]
  },
  {
   "cell_type": "code",
   "execution_count": 5,
   "id": "1893e00b",
   "metadata": {},
   "outputs": [
    {
     "data": {
      "text/plain": [
       "duration_sec               0\n",
       "start_time                 0\n",
       "end_time                   0\n",
       "start_station_id           0\n",
       "start_station_name         0\n",
       "start_station_latitude     0\n",
       "start_station_longitude    0\n",
       "end_station_id             0\n",
       "end_station_name           0\n",
       "end_station_latitude       0\n",
       "end_station_longitude      0\n",
       "bike_id                    0\n",
       "user_type                  0\n",
       "member_birth_year          0\n",
       "member_gender              0\n",
       "bike_share_for_all_trip    0\n",
       "dtype: int64"
      ]
     },
     "execution_count": 5,
     "metadata": {},
     "output_type": "execute_result"
    }
   ],
   "source": [
    "ford.dropna(inplace = True)\n",
    "\n",
    "ford.isnull().sum()"
   ]
  },
  {
   "cell_type": "markdown",
   "id": "1601946e",
   "metadata": {},
   "source": [
    "### Removing unneccesary columns"
   ]
  },
  {
   "cell_type": "code",
   "execution_count": 6,
   "id": "80451f0f",
   "metadata": {},
   "outputs": [
    {
     "data": {
      "text/plain": [
       "Index(['duration_sec', 'start_time', 'end_time', 'start_station_id',\n",
       "       'start_station_name', 'end_station_id', 'end_station_name', 'bike_id',\n",
       "       'user_type', 'member_birth_year', 'member_gender',\n",
       "       'bike_share_for_all_trip'],\n",
       "      dtype='object')"
      ]
     },
     "execution_count": 6,
     "metadata": {},
     "output_type": "execute_result"
    }
   ],
   "source": [
    "# Since the information on latitude on longitute are not part of my interest, I will go ahead and remove related 4 columns.\n",
    "\n",
    "ford.drop(columns = ['start_station_latitude', 'start_station_longitude', 'end_station_latitude', 'end_station_longitude'],\n",
    "         inplace = True)\n",
    "\n",
    "ford.columns"
   ]
  },
  {
   "cell_type": "markdown",
   "id": "1d5b82ee",
   "metadata": {},
   "source": [
    "### Checking for datatypes of each column\n",
    "- Object in 'start_time', 'end_time', 'member_birth_year' should be changed to Datetime. & extract hour\n",
    "- Float types in 'start_station_id', 'end_station_id', 'bike_id' should be changed to String\n",
    "- Object in 'user_type', 'member_gender', 'bike_share_for_all_trip' should be changed to Category"
   ]
  },
  {
   "cell_type": "code",
   "execution_count": 7,
   "id": "f53666fa",
   "metadata": {},
   "outputs": [],
   "source": [
    "date_type = ['end_time', 'start_time']\n",
    "str_type = ['start_station_id', 'end_station_id', 'bike_id']\n",
    "cat_type = ['user_type', 'member_gender', 'bike_share_for_all_trip']\n",
    "\n",
    "for d in date_type:\n",
    "    ford[d] = ford[d].astype('datetime64[ns]')\n",
    "    ford['start_day'] = ford[d].dt.day_name()\n",
    "    ford['start_hour'] = ford[d].dt.hour\n",
    "ford['end_hour'] = ford['end_time'].dt.hour\n",
    "\n",
    "for s in str_type:\n",
    "    ford[s] = ford[s].apply(lambda x: int(float(x))).astype('str')\n",
    "\n",
    "for c in cat_type:\n",
    "    ford[c] = ford[c].astype('category')\n",
    "\n",
    "ford['member_birth_year'] = ford['member_birth_year'].astype('int64')\n",
    "\n",
    "ford.start_time.replace('0', '24', inplace = True)\n",
    "ford.end_time.replace('0', '24', inplace = True)"
   ]
  },
  {
   "cell_type": "markdown",
   "id": "84b08801",
   "metadata": {},
   "source": [
    "### Setting category order"
   ]
  },
  {
   "cell_type": "code",
   "execution_count": 8,
   "id": "e6a095fd",
   "metadata": {},
   "outputs": [
    {
     "name": "stdout",
     "output_type": "stream",
     "text": [
      "Order setting successful\n"
     ]
    }
   ],
   "source": [
    "day_lists = ['Monday', 'Tuesday', 'Wednesday', 'Thursday', 'Friday', 'Saturday', 'Sunday']\n",
    "\n",
    "def orders(df):\n",
    "    day_var = pd.api.types.CategoricalDtype(ordered = True, categories = day_lists)\n",
    "    df['start_day'] = df['start_day'].astype(day_var)\n",
    "    return print(\"Order setting successful\")\n",
    "\n",
    "orders(ford)"
   ]
  },
  {
   "cell_type": "markdown",
   "id": "e150d862",
   "metadata": {},
   "source": [
    "### Checking for duplicated rows\n"
   ]
  },
  {
   "cell_type": "code",
   "execution_count": 9,
   "id": "878a9e4b",
   "metadata": {},
   "outputs": [
    {
     "data": {
      "text/plain": [
       "0"
      ]
     },
     "execution_count": 9,
     "metadata": {},
     "output_type": "execute_result"
    }
   ],
   "source": [
    "ford.duplicated().sum()"
   ]
  },
  {
   "cell_type": "markdown",
   "id": "ce748fbb",
   "metadata": {},
   "source": [
    "### Checking for basic statistic"
   ]
  },
  {
   "cell_type": "code",
   "execution_count": 10,
   "id": "882f8e8e",
   "metadata": {},
   "outputs": [
    {
     "data": {
      "text/html": [
       "<div>\n",
       "<style scoped>\n",
       "    .dataframe tbody tr th:only-of-type {\n",
       "        vertical-align: middle;\n",
       "    }\n",
       "\n",
       "    .dataframe tbody tr th {\n",
       "        vertical-align: top;\n",
       "    }\n",
       "\n",
       "    .dataframe thead th {\n",
       "        text-align: right;\n",
       "    }\n",
       "</style>\n",
       "<table border=\"1\" class=\"dataframe\">\n",
       "  <thead>\n",
       "    <tr style=\"text-align: right;\">\n",
       "      <th></th>\n",
       "      <th>duration_sec</th>\n",
       "      <th>member_birth_year</th>\n",
       "      <th>start_hour</th>\n",
       "      <th>end_hour</th>\n",
       "    </tr>\n",
       "  </thead>\n",
       "  <tbody>\n",
       "    <tr>\n",
       "      <th>count</th>\n",
       "      <td>174952.000000</td>\n",
       "      <td>174952.000000</td>\n",
       "      <td>174952.000000</td>\n",
       "      <td>174952.000000</td>\n",
       "    </tr>\n",
       "    <tr>\n",
       "      <th>mean</th>\n",
       "      <td>704.002744</td>\n",
       "      <td>1984.803135</td>\n",
       "      <td>13.456165</td>\n",
       "      <td>13.609533</td>\n",
       "    </tr>\n",
       "    <tr>\n",
       "      <th>std</th>\n",
       "      <td>1642.204905</td>\n",
       "      <td>10.118731</td>\n",
       "      <td>4.734282</td>\n",
       "      <td>4.748029</td>\n",
       "    </tr>\n",
       "    <tr>\n",
       "      <th>min</th>\n",
       "      <td>61.000000</td>\n",
       "      <td>1878.000000</td>\n",
       "      <td>0.000000</td>\n",
       "      <td>0.000000</td>\n",
       "    </tr>\n",
       "    <tr>\n",
       "      <th>25%</th>\n",
       "      <td>323.000000</td>\n",
       "      <td>1980.000000</td>\n",
       "      <td>9.000000</td>\n",
       "      <td>9.000000</td>\n",
       "    </tr>\n",
       "    <tr>\n",
       "      <th>50%</th>\n",
       "      <td>510.000000</td>\n",
       "      <td>1987.000000</td>\n",
       "      <td>14.000000</td>\n",
       "      <td>14.000000</td>\n",
       "    </tr>\n",
       "    <tr>\n",
       "      <th>75%</th>\n",
       "      <td>789.000000</td>\n",
       "      <td>1992.000000</td>\n",
       "      <td>17.000000</td>\n",
       "      <td>18.000000</td>\n",
       "    </tr>\n",
       "    <tr>\n",
       "      <th>max</th>\n",
       "      <td>84548.000000</td>\n",
       "      <td>2001.000000</td>\n",
       "      <td>23.000000</td>\n",
       "      <td>23.000000</td>\n",
       "    </tr>\n",
       "  </tbody>\n",
       "</table>\n",
       "</div>"
      ],
      "text/plain": [
       "        duration_sec  member_birth_year     start_hour       end_hour\n",
       "count  174952.000000      174952.000000  174952.000000  174952.000000\n",
       "mean      704.002744        1984.803135      13.456165      13.609533\n",
       "std      1642.204905          10.118731       4.734282       4.748029\n",
       "min        61.000000        1878.000000       0.000000       0.000000\n",
       "25%       323.000000        1980.000000       9.000000       9.000000\n",
       "50%       510.000000        1987.000000      14.000000      14.000000\n",
       "75%       789.000000        1992.000000      17.000000      18.000000\n",
       "max     84548.000000        2001.000000      23.000000      23.000000"
      ]
     },
     "execution_count": 10,
     "metadata": {},
     "output_type": "execute_result"
    }
   ],
   "source": [
    "ford.describe()"
   ]
  },
  {
   "cell_type": "markdown",
   "id": "0e16496a",
   "metadata": {},
   "source": [
    "### Amending birth year & Adding a categorical variable\n",
    "We already have users' birth year. But it is not quite easy to understand only by birth year how old the user is, and what generation the user is. I am going to classify users' birth years into 4 parts, old & middle-aged, young adult and teenager. Old generations were born on from 1920 to 1961 (age 60 - 101). Middle aged generations were born on from 1961 to 1981 (age 40 - 59). Young adults were born on from 1982 to 2002 (age 19 - 39). Lastly, teenagers were born on from 2004 (age - 18).\n",
    "\n"
   ]
  },
  {
   "cell_type": "code",
   "execution_count": 11,
   "id": "9205ee0b",
   "metadata": {},
   "outputs": [
    {
     "data": {
      "text/plain": [
       "1878     1\n",
       "1900    53\n",
       "1901     6\n",
       "1902    11\n",
       "1910     1\n",
       "1920     3\n",
       "1927     1\n",
       "1928     1\n",
       "1930     1\n",
       "1931    89\n",
       "Name: member_birth_year, dtype: int64"
      ]
     },
     "execution_count": 11,
     "metadata": {},
     "output_type": "execute_result"
    }
   ],
   "source": [
    "ford['member_birth_year'].value_counts().sort_index(ascending = True).head(10)"
   ]
  },
  {
   "cell_type": "code",
   "execution_count": 12,
   "id": "391b3550",
   "metadata": {},
   "outputs": [
    {
     "data": {
      "text/plain": [
       "1920     3\n",
       "1927     1\n",
       "1928     1\n",
       "1930     1\n",
       "1931    89\n",
       "Name: member_birth_year, dtype: int64"
      ]
     },
     "execution_count": 12,
     "metadata": {},
     "output_type": "execute_result"
    }
   ],
   "source": [
    "# I don't think some people's birth year of 1878, 1900, 1901, 1902, 1910 are true, considering the dataset has been created in 2019.\n",
    "# I will amend selected birth years to the later dates\n",
    "\n",
    "ford['member_birth_year'].replace([1878, 1900, 1901, 1902, 1910] , [1978, 2000, 2001, 2002, 2010], inplace = True)\n",
    "\n",
    "ford['member_birth_year'].value_counts().sort_index(ascending = True).head()"
   ]
  },
  {
   "cell_type": "code",
   "execution_count": 13,
   "id": "af7086fa",
   "metadata": {},
   "outputs": [
    {
     "data": {
      "text/html": [
       "<div>\n",
       "<style scoped>\n",
       "    .dataframe tbody tr th:only-of-type {\n",
       "        vertical-align: middle;\n",
       "    }\n",
       "\n",
       "    .dataframe tbody tr th {\n",
       "        vertical-align: top;\n",
       "    }\n",
       "\n",
       "    .dataframe thead th {\n",
       "        text-align: right;\n",
       "    }\n",
       "</style>\n",
       "<table border=\"1\" class=\"dataframe\">\n",
       "  <thead>\n",
       "    <tr style=\"text-align: right;\">\n",
       "      <th></th>\n",
       "      <th>duration_sec</th>\n",
       "      <th>start_time</th>\n",
       "      <th>end_time</th>\n",
       "      <th>start_station_id</th>\n",
       "      <th>start_station_name</th>\n",
       "      <th>end_station_id</th>\n",
       "      <th>end_station_name</th>\n",
       "      <th>bike_id</th>\n",
       "      <th>user_type</th>\n",
       "      <th>member_birth_year</th>\n",
       "      <th>member_gender</th>\n",
       "      <th>bike_share_for_all_trip</th>\n",
       "      <th>start_day</th>\n",
       "      <th>start_hour</th>\n",
       "      <th>end_hour</th>\n",
       "      <th>generation</th>\n",
       "    </tr>\n",
       "  </thead>\n",
       "  <tbody>\n",
       "    <tr>\n",
       "      <th>0</th>\n",
       "      <td>52185</td>\n",
       "      <td>2019-02-28 17:32:10.145</td>\n",
       "      <td>2019-03-01 08:01:55.975</td>\n",
       "      <td>21</td>\n",
       "      <td>Montgomery St BART Station (Market St at 2nd St)</td>\n",
       "      <td>13</td>\n",
       "      <td>Commercial St at Montgomery St</td>\n",
       "      <td>4902</td>\n",
       "      <td>Customer</td>\n",
       "      <td>1984</td>\n",
       "      <td>Male</td>\n",
       "      <td>No</td>\n",
       "      <td>Thursday</td>\n",
       "      <td>17</td>\n",
       "      <td>8</td>\n",
       "      <td>Young adult</td>\n",
       "    </tr>\n",
       "    <tr>\n",
       "      <th>2</th>\n",
       "      <td>61854</td>\n",
       "      <td>2019-02-28 12:13:13.218</td>\n",
       "      <td>2019-03-01 05:24:08.146</td>\n",
       "      <td>86</td>\n",
       "      <td>Market St at Dolores St</td>\n",
       "      <td>3</td>\n",
       "      <td>Powell St BART Station (Market St at 4th St)</td>\n",
       "      <td>5905</td>\n",
       "      <td>Customer</td>\n",
       "      <td>1972</td>\n",
       "      <td>Male</td>\n",
       "      <td>No</td>\n",
       "      <td>Thursday</td>\n",
       "      <td>12</td>\n",
       "      <td>5</td>\n",
       "      <td>Middle-aged</td>\n",
       "    </tr>\n",
       "    <tr>\n",
       "      <th>3</th>\n",
       "      <td>36490</td>\n",
       "      <td>2019-02-28 17:54:26.010</td>\n",
       "      <td>2019-03-01 04:02:36.842</td>\n",
       "      <td>375</td>\n",
       "      <td>Grove St at Masonic Ave</td>\n",
       "      <td>70</td>\n",
       "      <td>Central Ave at Fell St</td>\n",
       "      <td>6638</td>\n",
       "      <td>Subscriber</td>\n",
       "      <td>1989</td>\n",
       "      <td>Other</td>\n",
       "      <td>No</td>\n",
       "      <td>Thursday</td>\n",
       "      <td>17</td>\n",
       "      <td>4</td>\n",
       "      <td>Young adult</td>\n",
       "    </tr>\n",
       "    <tr>\n",
       "      <th>4</th>\n",
       "      <td>1585</td>\n",
       "      <td>2019-02-28 23:54:18.549</td>\n",
       "      <td>2019-03-01 00:20:44.074</td>\n",
       "      <td>7</td>\n",
       "      <td>Frank H Ogawa Plaza</td>\n",
       "      <td>222</td>\n",
       "      <td>10th Ave at E 15th St</td>\n",
       "      <td>4898</td>\n",
       "      <td>Subscriber</td>\n",
       "      <td>1974</td>\n",
       "      <td>Male</td>\n",
       "      <td>Yes</td>\n",
       "      <td>Thursday</td>\n",
       "      <td>23</td>\n",
       "      <td>0</td>\n",
       "      <td>Middle-aged</td>\n",
       "    </tr>\n",
       "    <tr>\n",
       "      <th>5</th>\n",
       "      <td>1793</td>\n",
       "      <td>2019-02-28 23:49:58.632</td>\n",
       "      <td>2019-03-01 00:19:51.760</td>\n",
       "      <td>93</td>\n",
       "      <td>4th St at Mission Bay Blvd S</td>\n",
       "      <td>323</td>\n",
       "      <td>Broadway at Kearny</td>\n",
       "      <td>5200</td>\n",
       "      <td>Subscriber</td>\n",
       "      <td>1959</td>\n",
       "      <td>Male</td>\n",
       "      <td>No</td>\n",
       "      <td>Thursday</td>\n",
       "      <td>23</td>\n",
       "      <td>0</td>\n",
       "      <td>Old</td>\n",
       "    </tr>\n",
       "  </tbody>\n",
       "</table>\n",
       "</div>"
      ],
      "text/plain": [
       "   duration_sec              start_time                end_time  \\\n",
       "0         52185 2019-02-28 17:32:10.145 2019-03-01 08:01:55.975   \n",
       "2         61854 2019-02-28 12:13:13.218 2019-03-01 05:24:08.146   \n",
       "3         36490 2019-02-28 17:54:26.010 2019-03-01 04:02:36.842   \n",
       "4          1585 2019-02-28 23:54:18.549 2019-03-01 00:20:44.074   \n",
       "5          1793 2019-02-28 23:49:58.632 2019-03-01 00:19:51.760   \n",
       "\n",
       "  start_station_id                                start_station_name  \\\n",
       "0               21  Montgomery St BART Station (Market St at 2nd St)   \n",
       "2               86                           Market St at Dolores St   \n",
       "3              375                           Grove St at Masonic Ave   \n",
       "4                7                               Frank H Ogawa Plaza   \n",
       "5               93                      4th St at Mission Bay Blvd S   \n",
       "\n",
       "  end_station_id                              end_station_name bike_id  \\\n",
       "0             13                Commercial St at Montgomery St    4902   \n",
       "2              3  Powell St BART Station (Market St at 4th St)    5905   \n",
       "3             70                        Central Ave at Fell St    6638   \n",
       "4            222                         10th Ave at E 15th St    4898   \n",
       "5            323                            Broadway at Kearny    5200   \n",
       "\n",
       "    user_type  member_birth_year member_gender bike_share_for_all_trip  \\\n",
       "0    Customer               1984          Male                      No   \n",
       "2    Customer               1972          Male                      No   \n",
       "3  Subscriber               1989         Other                      No   \n",
       "4  Subscriber               1974          Male                     Yes   \n",
       "5  Subscriber               1959          Male                      No   \n",
       "\n",
       "  start_day  start_hour  end_hour   generation  \n",
       "0  Thursday          17         8  Young adult  \n",
       "2  Thursday          12         5  Middle-aged  \n",
       "3  Thursday          17         4  Young adult  \n",
       "4  Thursday          23         0  Middle-aged  \n",
       "5  Thursday          23         0          Old  "
      ]
     },
     "execution_count": 13,
     "metadata": {},
     "output_type": "execute_result"
    }
   ],
   "source": [
    "gen_list = [1920, 1960, 1981, 2003, 2021]\n",
    "ford['generation'] = pd.cut(ford['member_birth_year'], gen_list, labels = ['Old', 'Middle-aged', 'Young adult', 'Teenager'], \n",
    "       include_lowest = True, ordered = True, right = False)\n",
    "\n",
    "ford.head()\n",
    "\n",
    "# I will keep member_birth_year for now, just in case I might need the column in future analysis"
   ]
  },
  {
   "cell_type": "markdown",
   "id": "c9138065",
   "metadata": {},
   "source": [
    "### What is the structure of the dataset?\n",
    "The latest dataset consists of 183412 rows and 12 columns, after removing unnecessary columns. Most variables are categorical in nature - variables user_type, member_gender, bike_share_for_all_trip, start_day, generation. Member_birth_year, start_hour, end_hour, bike_id, duration_sec are numeric variables.\n",
    "\n",
    "### What is/are the main feature(s) of interest in the dataset?\n",
    "I'm interested in understanding what features are the best for predicting duriation of the bike sharing in the dataset.\n",
    "I think the variables that show users' personal traits, such as generation, gender would be most helpful in understanding the user's behaviour. I also put an importance to usage patterns such as start day and start hour, to find out their ultimate needs for the sharing service. start_day, generation and gender would have the strongest correlation, considering that riding a bike is an activity mostly popular to young guys, and people prefer riding a bike on weekends when you have more time than weekdays. I also think generation, and start_hour would be correlated, but not as strong as the previous variables.\n",
    "\n",
    "\n",
    "## Univariate Exploration\n",
    "In this section, I am going to focus on investigating distributions of individual variables."
   ]
  },
  {
   "cell_type": "code",
   "execution_count": 14,
   "id": "0cdcb597",
   "metadata": {},
   "outputs": [
    {
     "data": {
      "image/png": "[encoded data removed]",
      "text/plain": [
       "<Figure size 432x288 with 1 Axes>"
      ]
     },
     "metadata": {
      "needs_background": "light"
     },
     "output_type": "display_data"
    }
   ],
   "source": [
    "bins = np.arange(ford.duration_sec.min(), ford.duration_sec.max()+200, 200)\n",
    "plt.hist(data = ford, x = 'duration_sec', bins = bins)\n",
    "plt.title('Distribution of Rental Duration')\n",
    "plt.xlabel('Rental Duration (sec)')\n",
    "plt.ylabel('Counts');\n",
    "\n",
    "# there is a very long tail on the right, so I will set log transformation to price"
   ]
  },
  {
   "cell_type": "code",
   "execution_count": 15,
   "id": "1f5627cd",
   "metadata": {},
   "outputs": [
    {
     "data": {
      "image/png": "[encoded data removed]",
      "text/plain": [
       "<Figure size 432x288 with 1 Axes>"
      ]
     },
     "metadata": {
      "needs_background": "light"
     },
     "output_type": "display_data"
    }
   ],
   "source": [
    "# start with a main variable of interest: duration\n",
    "\n",
    "dur_list = [100, 500, 1000, 2500, 5000, 10000]\n",
    "bins = 10** np.arange(np.log10(ford.duration_sec.min()), np.log10(ford.duration_sec.max())+0.1, 0.1)\n",
    "       \n",
    "plt.figure(figsize = (6,4))\n",
    "plt.hist(data = ford, x = 'duration_sec', bins = bins)\n",
    "plt.xscale('log')\n",
    "plt.xticks(dur_list, [100, 500, '1K', '2.5K','5K', '10K'])\n",
    "plt.title('Distribution of Rental Duration')\n",
    "plt.xlabel('Duration (sec)')\n",
    "plt.ylabel('Counts');\n",
    "\n",
    "# the distribution is a bit right-skewed. I will remove outliers whose duration is longer than 2,000"
   ]
  },
  {
   "cell_type": "code",
   "execution_count": 16,
   "id": "6375c0f2",
   "metadata": {},
   "outputs": [
    {
     "data": {
      "image/png": "[encoded data removed]",
      "text/plain": [
       "<Figure size 504x576 with 2 Axes>"
      ]
     },
     "metadata": {
      "needs_background": "light"
     },
     "output_type": "display_data"
    }
   ],
   "source": [
    "# Age & Generation distribution\n",
    "\n",
    "fig, ax = plt.subplots(2,1, figsize = (7,8))\n",
    "colors = sns.color_palette()[0]\n",
    "bins = np.arange(ford.member_birth_year.min(), ford.member_birth_year.max()+2, 2)\n",
    "age_list = [1920, 1930, 1940,1950, 1960, 1970, 1980, 1990, 2000, 2010]\n",
    "\n",
    "sns.countplot(data = ford, x = 'generation', color = colors, ax = ax[0])\n",
    "ax[0].set_ylabel('Count')\n",
    "ax[1].hist(data = ford, x = 'member_birth_year', color = colors, bins = bins)\n",
    "ax[1].set_xticks(age_list)\n",
    "ax[1].set_xticklabels(['20s','30s','40s','50s','60s', '70s', '80s', '90s', '00s', '10s'])\n",
    "ax[1].set_xlabel('Birth year')\n",
    "ax[1].set_ylabel('Count');"
   ]
  },
  {
   "cell_type": "code",
   "execution_count": 17,
   "id": "34dc8eea",
   "metadata": {},
   "outputs": [
    {
     "data": {
      "image/png": "[encoded data removed]",
      "text/plain": [
       "<Figure size 432x288 with 1 Axes>"
      ]
     },
     "metadata": {
      "needs_background": "light"
     },
     "output_type": "display_data"
    }
   ],
   "source": [
    "# Since the ratio of teenagers are too low, I will merge them into young adult group.\n",
    "\n",
    "gen_list = [1920, 1960, 1981, 2021]\n",
    "ford['generation'] = pd.cut(ford['member_birth_year'], gen_list, labels = ['Old', 'Middle-aged', 'Young adult'], \n",
    "       include_lowest = True, ordered = True, right = False)\n",
    "\n",
    "gen_c = ford.generation.value_counts()\n",
    "gen_order = gen_c.index\n",
    "n_gen = ford.generation.value_counts().sum()\n",
    "\n",
    "plt.figure(figsize = (6,4))\n",
    "sns.countplot(data = ford, x = 'generation', color = colors)\n",
    "plt.ylabel('Count')\n",
    "plt.title('Generation Ratio')\n",
    "\n",
    "locs, labels = plt.xticks() \n",
    "for loc, label in zip(locs, labels):\n",
    "    count = gen_c[label.get_text()]\n",
    "    pct_string = '{:0.1f}%'.format(100*count/n_gen)\n",
    "    plt.text(loc, count+1, pct_string, ha = 'center', color = 'black', fontsize = 11);\n",
    "    \n",
    "# birth year histogram is left skewed. I will remove outliers with birth year earlier than 1950"
   ]
  },
  {
   "cell_type": "markdown",
   "id": "1ce1c08d",
   "metadata": {},
   "source": [
    "- There are very few teenaged users, less than 2,500. I thought young guys would like to use the sharing service often because it's one of the most popular outdoor sport, but they could just own their bike.\n",
    "- Users born between 1985 and 1995 take the biggest portion in the whole users. They should have graduated the college and already be working. Why would they rent a bike that often?"
   ]
  },
  {
   "cell_type": "code",
   "execution_count": 18,
   "id": "606c1fef",
   "metadata": {},
   "outputs": [
    {
     "data": {
      "image/png": "[encoded data removed]",
      "text/plain": [
       "<Figure size 432x288 with 1 Axes>"
      ]
     },
     "metadata": {
      "needs_background": "light"
     },
     "output_type": "display_data"
    }
   ],
   "source": [
    "gender_c = ford.member_gender.value_counts()\n",
    "gender_order = gender_c.index\n",
    "n_gender = ford.member_gender.value_counts().sum()\n",
    "\n",
    "plt.figure(figsize = (6,4))\n",
    "sns.countplot(data = ford, x = 'member_gender', color = colors, order = gender_order)\n",
    "plt.title('Gender Ratio')\n",
    "plt.xlabel('Gender')\n",
    "plt.ylabel('Count');\n",
    "\n",
    "locs, labels = plt.xticks() \n",
    "for loc, label in zip(locs, labels):\n",
    "    count = gender_c[label.get_text()]\n",
    "    pct_string = '{:0.1f}%'.format(100*count/n_gender)\n",
    "    plt.text(loc, count+1, pct_string, ha = 'center', color = 'black', fontsize = 11)"
   ]
  },
  {
   "cell_type": "markdown",
   "id": "e4a49148",
   "metadata": {},
   "source": [
    "Males tend to ride a bike 3 times more than females as I expected, since bike riding isn't a very popular sport among girls"
   ]
  },
  {
   "cell_type": "code",
   "execution_count": 19,
   "id": "fff53f97",
   "metadata": {},
   "outputs": [
    {
     "data": {
      "text/plain": [
       "Male      130500\n",
       "Female     40805\n",
       "Name: member_gender, dtype: int64"
      ]
     },
     "execution_count": 19,
     "metadata": {},
     "output_type": "execute_result"
    }
   ],
   "source": [
    "# Since 'other' gender doesn't mean anything, I will delete the rows with gender other.\n",
    "\n",
    "ford['member_gender'] = ford['member_gender'].astype(str)\n",
    "ford = ford.loc[ford[\"member_gender\"] != 'Other']\n",
    "ford.dropna(inplace= True)\n",
    "ford['member_gender'] = ford['member_gender'].astype('category')\n",
    "\n",
    "ford.member_gender.value_counts()"
   ]
  },
  {
   "cell_type": "code",
   "execution_count": 21,
   "id": "e6be7960",
   "metadata": {},
   "outputs": [
    {
     "data": {
      "image/png": "[encoded data removed]",
      "text/plain": [
       "<Figure size 432x288 with 1 Axes>"
      ]
     },
     "metadata": {
      "needs_background": "light"
     },
     "output_type": "display_data"
    }
   ],
   "source": [
    "# Let's plot a new bar chart with new dataset\n",
    "\n",
    "gender_c = ford.member_gender.value_counts()\n",
    "gender_order = gender_c.index\n",
    "n_gender = ford.member_gender.value_counts().sum()\n",
    "\n",
    "plt.figure(figsize = (6,4))\n",
    "sns.countplot(data = ford, x = 'member_gender', color = colors, order = gender_order)\n",
    "plt.title('Gender Ratio')\n",
    "plt.xlabel('Gender')\n",
    "plt.ylabel('Count')\n",
    "\n",
    "locs, labels = plt.xticks() \n",
    "for loc, label in zip(locs, labels):\n",
    "    count = gender_c[label.get_text()]\n",
    "    pct_string = '{:0.1f}%'.format(100*count/n_gender)\n",
    "    plt.text(loc, count+1, pct_string, ha = 'center', color = 'black', fontsize = 11)"
   ]
  },
  {
   "cell_type": "code",
   "execution_count": 22,
   "id": "00950319",
   "metadata": {},
   "outputs": [
    {
     "data": {
      "image/png": "[encoded data removed]",
      "text/plain": [
       "<Figure size 936x360 with 1 Axes>"
      ]
     },
     "metadata": {
      "needs_background": "light"
     },
     "output_type": "display_data"
    }
   ],
   "source": [
    "start_c = ford.start_day.value_counts().sort_index()\n",
    "start_order = start_c.index\n",
    "n_start = ford.start_day.value_counts().sum()\n",
    "\n",
    "plt.figure(figsize = (13,5))\n",
    "sns.countplot(data = ford, y = 'start_day', color = colors)\n",
    "plt.title('Day of Week Distribution')\n",
    "plt.ylabel('Day of Week')\n",
    "plt.xlabel('Count')\n",
    "\n",
    "for i in range (start_c.shape[0]):\n",
    "    count = start_c[i]\n",
    "    pct_string = '{:0.1f}%'.format(100* count/n_start)\n",
    "    plt.text(count+1, i, pct_string, va='center', fontsize = 11);"
   ]
  },
  {
   "cell_type": "markdown",
   "id": "24e7b583",
   "metadata": {},
   "source": [
    "It seems people ride a bike more often on weekdays than on weekends. I assumed users would share a bike for their pastime hobby on weekends, let's take a look at the data in different angels."
   ]
  },
  {
   "cell_type": "code",
   "execution_count": 23,
   "id": "d2cf5159",
   "metadata": {},
   "outputs": [
    {
     "data": {
      "image/png": "[encoded data removed]",
      "text/plain": [
       "<Figure size 504x576 with 2 Axes>"
      ]
     },
     "metadata": {
      "needs_background": "light"
     },
     "output_type": "display_data"
    }
   ],
   "source": [
    "fig, ax = plt.subplots(2,1, figsize = (7,8))\n",
    "colors = sns.color_palette()[0]\n",
    "\n",
    "sns.countplot(data = ford, x = 'start_hour', color = colors, ax = ax[0])\n",
    "ax[0].set_ylabel('Count')\n",
    "sns.countplot(data = ford, x = 'end_hour', color = colors, ax = ax[1])\n",
    "ax[1].set_ylabel('Count');"
   ]
  },
  {
   "cell_type": "markdown",
   "id": "37c0b378",
   "metadata": {},
   "source": [
    "- There is a highest demand of bike sharing in 8 hrs - 9 hrs and 17 hrs - 18 hrs. Now we know that the reason of high demand during weekdays among young adults was that they are likely to rent a bike to commute. It also sounds plausible that teenagers were in the lowest demand, since they don't go need any means of transportation for work.\n",
    "- But what about duration? Would duration be longest in 8 hrs - 9 hrs and 17 hrs - 18 hrs as well? Just because more people rent a bike, we can't tell that the average duration would be longer. We can dicuss this later during the bivariate analysis.\n",
    "- The distiburion of start hour looks very similar to the one of end hour. It makes sense perfectly that they are highly related, as 3rd quartile of duration was 510 second in the previous analysis, which is less than 9 minutes."
   ]
  },
  {
   "cell_type": "code",
   "execution_count": 24,
   "id": "bf889d13",
   "metadata": {},
   "outputs": [
    {
     "data": {
      "image/png": "[encoded data removed]",
      "text/plain": [
       "<Figure size 432x288 with 1 Axes>"
      ]
     },
     "metadata": {
      "needs_background": "light"
     },
     "output_type": "display_data"
    }
   ],
   "source": [
    "type_c = ford.user_type.value_counts()\n",
    "type_order = type_c.index\n",
    "n_type = ford.user_type.value_counts().sum()\n",
    "\n",
    "plt.figure(figsize = (6,4))\n",
    "sns.countplot(data = ford, x = 'user_type', color = colors, order = type_order)\n",
    "plt.title('User Type Ratio')\n",
    "plt.xlabel('User Type')\n",
    "plt.ylabel('Count')\n",
    "\n",
    "locs, labels = plt.xticks() \n",
    "for loc, label in zip(locs, labels):\n",
    "    count = type_c[label.get_text()]\n",
    "    pct_string = '{:0.1f}%'.format(100*count/n_type)\n",
    "    plt.text(loc, count+1, pct_string, ha = 'center', color = 'black', fontsize = 11);"
   ]
  },
  {
   "cell_type": "markdown",
   "id": "1c9758cd",
   "metadata": {},
   "source": [
    "- Most of the users (over 90%) subscribe the service. They are likely to ride a bike regularly - probably young adults would take the biggest part of the subscribers. We can check this in a later analysis!"
   ]
  },
  {
   "cell_type": "code",
   "execution_count": 25,
   "id": "00208a9d",
   "metadata": {},
   "outputs": [
    {
     "data": {
      "image/png": "[encoded data removed]",
      "text/plain": [
       "<Figure size 432x288 with 1 Axes>"
      ]
     },
     "metadata": {
      "needs_background": "light"
     },
     "output_type": "display_data"
    }
   ],
   "source": [
    "share_c = ford.bike_share_for_all_trip.value_counts()\n",
    "share_order = share_c.index\n",
    "n_share = ford.bike_share_for_all_trip.value_counts().sum()\n",
    "\n",
    "plt.figure(figsize = (6,4))\n",
    "sns.countplot(data = ford, x = 'bike_share_for_all_trip', color = colors, order = share_order)\n",
    "plt.title('All Trip Sharing Ratio')\n",
    "plt.xlabel('Bike Share For All Trip')\n",
    "plt.ylabel('Count')\n",
    "\n",
    "locs, labels = plt.xticks() \n",
    "for loc, label in zip(locs, labels):\n",
    "    count = share_c[label.get_text()]\n",
    "    pct_string = '{:0.1f}%'.format(100*count/n_share)\n",
    "    plt.text(loc, count+1, pct_string, ha = 'center', color = 'black', fontsize = 11);"
   ]
  },
  {
   "cell_type": "markdown",
   "id": "6d14b897",
   "metadata": {},
   "source": [
    "### Removing outliers"
   ]
  },
  {
   "cell_type": "code",
   "execution_count": 26,
   "id": "9c2a41ec",
   "metadata": {},
   "outputs": [
    {
     "name": "stdout",
     "output_type": "stream",
     "text": [
      "Order setting successful\n"
     ]
    },
    {
     "name": "stderr",
     "output_type": "stream",
     "text": [
      "<ipython-input-8-f93844ede3bd>:5: SettingWithCopyWarning: \n",
      "A value is trying to be set on a copy of a slice from a DataFrame.\n",
      "Try using .loc[row_indexer,col_indexer] = value instead\n",
      "\n",
      "See the caveats in the documentation: https://pandas.pydata.org/pandas-docs/stable/user_guide/indexing.html#returning-a-view-versus-a-copy\n",
      "  df['start_day'] = df['start_day'].astype(day_var)\n"
     ]
    }
   ],
   "source": [
    "ford_n = ford.loc[(ford['member_birth_year'] >= 1950) & (ford['duration_sec'] <= 2000)]\n",
    "orders(ford_n)\n",
    "\n",
    "# We are removing outliers with birth year earlier than 1950 OR duration_sec longer than 2000 \n",
    "# 'orders' function is to set the right order of 'start_day' category "
   ]
  },
  {
   "cell_type": "markdown",
   "id": "bc2a6095",
   "metadata": {},
   "source": [
    "### Let's draw new plots with amended datasets"
   ]
  },
  {
   "cell_type": "code",
   "execution_count": 27,
   "id": "59777923",
   "metadata": {},
   "outputs": [
    {
     "data": {
      "image/png": "[encoded data removed]",
      "text/plain": [
       "<Figure size 432x288 with 1 Axes>"
      ]
     },
     "metadata": {
      "needs_background": "light"
     },
     "output_type": "display_data"
    }
   ],
   "source": [
    "dur_list = [100, 500, 1000, 3000, 5000]\n",
    "bins = 10** np.arange(np.log10(ford_n.duration_sec.min()), np.log10(ford_n.duration_sec.max())+0.05, 0.05)\n",
    "           \n",
    "plt.figure(figsize = (6,4))\n",
    "plt.hist(data = ford_n, x = 'duration_sec', bins = bins)\n",
    "plt.xscale('log')\n",
    "plt.xticks(dur_list, [100, 500, '1K', '3K', '5K'])\n",
    "plt.title('Distribution of Duration without Outliers')\n",
    "plt.xlabel('Rental Duration (sec)')\n",
    "plt.ylabel('Counts');"
   ]
  },
  {
   "cell_type": "code",
   "execution_count": 28,
   "id": "326f0c18",
   "metadata": {},
   "outputs": [
    {
     "data": {
      "image/png": "[encoded data removed]",
      "text/plain": [
       "<Figure size 432x288 with 1 Axes>"
      ]
     },
     "metadata": {
      "needs_background": "light"
     },
     "output_type": "display_data"
    }
   ],
   "source": [
    "bins = np.arange(ford_n.member_birth_year.min(), ford_n.member_birth_year.max()+2, 2)\n",
    "age_list = [1950, 1960, 1970, 1980, 1990, 2000, 2010]\n",
    "\n",
    "plt.figure(figsize = (6,4))\n",
    "plt.hist(data = ford, x = 'member_birth_year', color = colors, bins = bins)\n",
    "plt.xticks(age_list, ['50s','60s', '70s', '80s', '90s', '00s', '10s'])\n",
    "plt.xlabel('Birth year')\n",
    "plt.ylabel('Count')\n",
    "plt.title('Birth Years without Outliers');"
   ]
  },
  {
   "cell_type": "markdown",
   "id": "459f009f",
   "metadata": {},
   "source": [
    "Both plots are still a bit skewed, but look much better now!"
   ]
  }
 ],
 "metadata": {
  "kernelspec": {
   "display_name": "Python 3",
   "language": "python",
   "name": "python3"
  },
  "language_info": {
   "codemirror_mode": {
    "name": "ipython",
    "version": 3
   },
   "file_extension": ".py",
   "mimetype": "text/x-python",
   "name": "python",
   "nbconvert_exporter": "python",
   "pygments_lexer": "ipython3",
   "version": "3.8.5"
  }
 },
 "nbformat": 4,
 "nbformat_minor": 5
}
